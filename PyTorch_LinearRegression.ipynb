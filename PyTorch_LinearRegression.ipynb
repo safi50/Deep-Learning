{
  "nbformat": 4,
  "nbformat_minor": 0,
  "metadata": {
    "colab": {
      "provenance": [],
      "authorship_tag": "ABX9TyNWroEYHrIu+uPIDQgBnu6u",
      "include_colab_link": true
    },
    "kernelspec": {
      "name": "python3",
      "display_name": "Python 3"
    },
    "language_info": {
      "name": "python"
    }
  },
  "cells": [
    {
      "cell_type": "markdown",
      "metadata": {
        "id": "view-in-github",
        "colab_type": "text"
      },
      "source": [
        "<a href=\"https://colab.research.google.com/github/safi50/Deep-Learning/blob/main/PyTorch_LinearRegression.ipynb\" target=\"_parent\"><img src=\"https://colab.research.google.com/assets/colab-badge.svg\" alt=\"Open In Colab\"/></a>"
      ]
    },
    {
      "cell_type": "code",
      "execution_count": null,
      "metadata": {
        "id": "yutbNYdXcE-U"
      },
      "outputs": [],
      "source": [
        "import torch\n",
        "from torch import nn\n",
        "import matplotlib.pyplot as plt"
      ]
    },
    {
      "cell_type": "markdown",
      "source": [
        "## Creating Data Set For Linear Regression"
      ],
      "metadata": {
        "id": "2ksv3lSmcnxe"
      }
    },
    {
      "cell_type": "code",
      "source": [
        "# Formula : Y = b + w * x\n",
        "weight = 0.7\n",
        "bias = 0.3\n",
        "# Input Data  - 100 Values\n",
        "start = 0\n",
        "end = 1\n",
        "step = 0.02\n",
        "X = torch.arange(start, end, step).unsqueeze(dim=1)\n",
        "# Output Data\n",
        "Y = bias + weight * X\n",
        "\n",
        "X[:5] , Y[:5]\n"
      ],
      "metadata": {
        "colab": {
          "base_uri": "https://localhost:8080/"
        },
        "id": "qXLp4jbGcsQM",
        "outputId": "6f37ffc7-1edc-4fc7-a292-8c93f6d62fdb"
      },
      "execution_count": null,
      "outputs": [
        {
          "output_type": "execute_result",
          "data": {
            "text/plain": [
              "(tensor([[0.0000],\n",
              "         [0.0200],\n",
              "         [0.0400],\n",
              "         [0.0600],\n",
              "         [0.0800]]),\n",
              " tensor([[0.3000],\n",
              "         [0.3140],\n",
              "         [0.3280],\n",
              "         [0.3420],\n",
              "         [0.3560]]))"
            ]
          },
          "metadata": {},
          "execution_count": 23
        }
      ]
    },
    {
      "cell_type": "markdown",
      "source": [
        "## Creating a 80 - 20 Training Testing Split"
      ],
      "metadata": {
        "id": "axgNs7tAeKVz"
      }
    },
    {
      "cell_type": "code",
      "source": [
        "split =  int(0.8 *  len(X))\n",
        "\n",
        "X_train = X[:split]\n",
        "X_test = X[split:]\n",
        "\n",
        "Y_train = Y[:split]\n",
        "Y_test = Y[split:]\n",
        "\n",
        "len(X_train), len(X_test) , len(Y_train) , len(Y_test)"
      ],
      "metadata": {
        "colab": {
          "base_uri": "https://localhost:8080/"
        },
        "id": "wAPfvHptePlO",
        "outputId": "c9c4dc0c-7f05-4ed5-b073-38eb96a03e1f"
      },
      "execution_count": null,
      "outputs": [
        {
          "output_type": "execute_result",
          "data": {
            "text/plain": [
              "(40, 10, 40, 10)"
            ]
          },
          "metadata": {},
          "execution_count": 24
        }
      ]
    },
    {
      "cell_type": "markdown",
      "source": [
        "## Function to plot predictions"
      ],
      "metadata": {
        "id": "rsw11E7Qo50l"
      }
    },
    {
      "cell_type": "code",
      "source": [
        "def plot_predictions(train_data = X_train, train_labels=Y_train,\n",
        "                     test_data = X_test, test_labels=Y_test,\n",
        "                     predictions = None):\n",
        "  plt.figure(figsize=(8, 5))\n",
        "\n",
        "  plt.scatter(train_data, train_labels, c=\"b\", s = 4 , label = \"Training Data\")\n",
        "\n",
        "  plt.scatter(test_data, test_labels, c=\"g\", s = 4 , label = \"Test Data\")\n",
        "\n",
        "  if predictions is not None:\n",
        "    # Plot predictions for comparison with Train and Test , If any:\n",
        "    plt.scatter(test_data, predictions, c=\"r\", s=4 , label = \"Predictions\")\n",
        "\n",
        "  plt.legend(prop={\"size\": 14})\n",
        "\n",
        "plot_predictions()"
      ],
      "metadata": {
        "colab": {
          "base_uri": "https://localhost:8080/",
          "height": 445
        },
        "id": "-NeNBQgLo-q_",
        "outputId": "2f0ff61c-935f-4a9b-da80-af6dcb46abda"
      },
      "execution_count": null,
      "outputs": [
        {
          "output_type": "display_data",
          "data": {
            "text/plain": [
              "<Figure size 800x500 with 1 Axes>"
            ],
            "image/png": "[encoded data removed]"
          },
          "metadata": {}
        }
      ]
    },
    {
      "cell_type": "markdown",
      "source": [
        "## Creating a Regression Model Class"
      ],
      "metadata": {
        "id": "pw_tNZ-siShE"
      }
    },
    {
      "cell_type": "code",
      "source": [
        "class LinearRegression(nn.Module):  # All models should inherit from nn.Module\n",
        "  def __init__(self):\n",
        "    super().__init__()\n",
        "\n",
        "    # Creating weight and bias Parameters\n",
        "\n",
        "    self.weights = nn.Parameter(torch.randn(1,\n",
        "                                            requires_grad = True,\n",
        "                                            dtype = torch.float))\n",
        "\n",
        "    self.bias = nn.Parameter(torch.randn(1,\n",
        "                                         requires_grad = True,\n",
        "                                         dtype = torch.float))\n",
        "    # Override the forward method for regression\n",
        "  def forward(self, x: torch.Tensor) -> torch.Tensor:\n",
        "    return self.weights * x + self.bias # regression formula\n"
      ],
      "metadata": {
        "id": "O5KyFX2IiVPj"
      },
      "execution_count": null,
      "outputs": []
    },
    {
      "cell_type": "markdown",
      "source": [
        "## Creating a Model Instance - Loss Function and Optimizer"
      ],
      "metadata": {
        "id": "NbZpFqz6rZ7t"
      }
    },
    {
      "cell_type": "code",
      "source": [
        "torch.manual_seed(42)\n",
        "\n",
        "model = LinearRegression()\n",
        "#Check model parameters\n",
        "list(model.parameters())\n",
        "#See model parameters\n",
        "model.state_dict()"
      ],
      "metadata": {
        "colab": {
          "base_uri": "https://localhost:8080/"
        },
        "id": "GSd4Nl3JrwW3",
        "outputId": "3a53a19b-6a47-4c1e-e2ef-e893e0333719"
      },
      "execution_count": null,
      "outputs": [
        {
          "output_type": "execute_result",
          "data": {
            "text/plain": [
              "OrderedDict([('weights', tensor([0.3367])), ('bias', tensor([0.1288]))])"
            ]
          },
          "metadata": {},
          "execution_count": 27
        }
      ]
    },
    {
      "cell_type": "code",
      "source": [
        "#Loss Function\n",
        "loss_fn = nn.L1Loss()\n",
        "\n",
        "#Optimizer :  SGD\n",
        "optimizer = torch.optim.SGD(params = model.parameters(),\n",
        "                            lr = 0.01)"
      ],
      "metadata": {
        "id": "WamlKHa_-KEM"
      },
      "execution_count": null,
      "outputs": []
    },
    {
      "cell_type": "markdown",
      "source": [
        "## Learning Loop  + TESTING\n"
      ],
      "metadata": {
        "id": "34qYbM3L-ovM"
      }
    },
    {
      "cell_type": "code",
      "source": [
        "epochs = 200\n",
        "train_loss_values = []\n",
        "test_loss_values = []\n",
        "epoch_count = []\n",
        "\n",
        "for epoch in range(epochs):\n",
        "  model.train()\n",
        "\n",
        "  Y_pred = model(X_train)   # Forward pass\n",
        "  loss = loss_fn(Y_pred, Y_train)   # calculating loss\n",
        "  optimizer.zero_grad()\n",
        "  loss.backward()   # Back Propagation\n",
        "  optimizer.step()\n",
        "\n",
        "  # TESTING CODE\n",
        "  model.eval()\n",
        "  with torch.inference_mode():\n",
        "    test_pred = model(X_test)\n",
        "    test_loss = loss_fn(test_pred, Y_test.type(torch.float))\n",
        "\n",
        "  if (epoch % 10) == 0:\n",
        "    epoch_count.append(epoch)\n",
        "    train_loss_values.append(loss.detach().numpy())\n",
        "    test_loss_values.append(test_loss.detach().numpy())\n",
        "\n",
        "    print(f\"Epoch : {epoch} | Loss : {loss} | Test Loss :  {test_loss}\")\n"
      ],
      "metadata": {
        "colab": {
          "base_uri": "https://localhost:8080/"
        },
        "id": "woFVXrmw-n75",
        "outputId": "8562839c-158b-47b6-a561-2a922a6cfe53"
      },
      "execution_count": null,
      "outputs": [
        {
          "output_type": "stream",
          "name": "stdout",
          "text": [
            "Epoch : 0 | Loss : 0.31288138031959534 | Test Loss :  0.48106518387794495\n",
            "Epoch : 10 | Loss : 0.1976713240146637 | Test Loss :  0.3463551998138428\n",
            "Epoch : 20 | Loss : 0.08908725529909134 | Test Loss :  0.21729660034179688\n",
            "Epoch : 30 | Loss : 0.053148526698350906 | Test Loss :  0.14464017748832703\n",
            "Epoch : 40 | Loss : 0.04543796554207802 | Test Loss :  0.11360953003168106\n",
            "Epoch : 50 | Loss : 0.04167863354086876 | Test Loss :  0.09919948130846024\n",
            "Epoch : 60 | Loss : 0.03818932920694351 | Test Loss :  0.08886633068323135\n",
            "Epoch : 70 | Loss : 0.03476089984178543 | Test Loss :  0.0805937647819519\n",
            "Epoch : 80 | Loss : 0.03132382780313492 | Test Loss :  0.07232122868299484\n",
            "Epoch : 90 | Loss : 0.02788739837706089 | Test Loss :  0.06473556160926819\n",
            "Epoch : 100 | Loss : 0.024458957836031914 | Test Loss :  0.05646304413676262\n",
            "Epoch : 110 | Loss : 0.021020207554101944 | Test Loss :  0.04819049686193466\n",
            "Epoch : 120 | Loss : 0.01758546568453312 | Test Loss :  0.04060482233762741\n",
            "Epoch : 130 | Loss : 0.014155393466353416 | Test Loss :  0.03233227878808975\n",
            "Epoch : 140 | Loss : 0.010716589167714119 | Test Loss :  0.024059748277068138\n",
            "Epoch : 150 | Loss : 0.0072835334576666355 | Test Loss :  0.016474086791276932\n",
            "Epoch : 160 | Loss : 0.0038517764769494534 | Test Loss :  0.008201557211577892\n",
            "Epoch : 170 | Loss : 0.008932482451200485 | Test Loss :  0.005023092031478882\n",
            "Epoch : 180 | Loss : 0.008932482451200485 | Test Loss :  0.005023092031478882\n",
            "Epoch : 190 | Loss : 0.008932482451200485 | Test Loss :  0.005023092031478882\n"
          ]
        }
      ]
    },
    {
      "cell_type": "markdown",
      "source": [
        "## Checking Loss"
      ],
      "metadata": {
        "id": "cRuMZdjOt8cE"
      }
    },
    {
      "cell_type": "code",
      "source": [
        "\n",
        "plt.plot(epoch_count, train_loss_values, label = \"Train Loss\")\n",
        "plt.plot(epoch_count, test_loss_values, label = \"Test Loss\")\n",
        "plt.ylabel(\"Loss\")\n",
        "plt.xlabel(\"Epochs\")\n",
        "plt.legend()\n",
        "plt.show()"
      ],
      "metadata": {
        "colab": {
          "base_uri": "https://localhost:8080/",
          "height": 451
        },
        "id": "kkd7ecAy_8O7",
        "outputId": "1821fa4e-f94a-471e-89d7-f9f610944076"
      },
      "execution_count": null,
      "outputs": [
        {
          "output_type": "display_data",
          "data": {
            "text/plain": [
              "<Figure size 640x480 with 1 Axes>"
            ],
            "image/png": "[encoded data removed]"
          },
          "metadata": {}
        }
      ]
    },
    {
      "cell_type": "markdown",
      "source": [
        "## Checking Models Learnt Parameters"
      ],
      "metadata": {
        "id": "-Qen3i2EuEzh"
      }
    },
    {
      "cell_type": "code",
      "source": [
        "# Learnt Model Values\n",
        "print(model.state_dict())\n",
        "\n",
        "# Original param Values :\n",
        "print(f\"weight: {weight} , bias: {bias}\")\n"
      ],
      "metadata": {
        "colab": {
          "base_uri": "https://localhost:8080/"
        },
        "id": "zIUcSojsuJE5",
        "outputId": "b0c1ee5f-b3ab-48f8-c40e-64690121983e"
      },
      "execution_count": null,
      "outputs": [
        {
          "output_type": "stream",
          "name": "stdout",
          "text": [
            "OrderedDict([('weights', tensor([0.6990])), ('bias', tensor([0.3093]))])\n",
            "weight: 0.7 , bias: 0.3\n"
          ]
        }
      ]
    },
    {
      "cell_type": "markdown",
      "source": [
        "## Making Predictions:\n"
      ],
      "metadata": {
        "id": "C9fpi_P9ul0O"
      }
    },
    {
      "cell_type": "code",
      "source": [
        "model.eval()\n",
        "with torch.inference_mode():\n",
        "\n",
        "  y_preds = model(X_test)\n",
        "\n",
        "y_preds"
      ],
      "metadata": {
        "colab": {
          "base_uri": "https://localhost:8080/"
        },
        "id": "Rr2Af6PHuQ2Y",
        "outputId": "bb393acb-5a24-4add-9e2a-98fdaf894fe5"
      },
      "execution_count": null,
      "outputs": [
        {
          "output_type": "execute_result",
          "data": {
            "text/plain": [
              "tensor([[0.8685],\n",
              "        [0.8825],\n",
              "        [0.8965],\n",
              "        [0.9105],\n",
              "        [0.9245],\n",
              "        [0.9384],\n",
              "        [0.9524],\n",
              "        [0.9664],\n",
              "        [0.9804],\n",
              "        [0.9944]])"
            ]
          },
          "metadata": {},
          "execution_count": 42
        }
      ]
    },
    {
      "cell_type": "markdown",
      "source": [
        "## Prediction Accuracy Graph"
      ],
      "metadata": {
        "id": "niZhqGDsvF4o"
      }
    },
    {
      "cell_type": "code",
      "source": [
        "plot_predictions(predictions = y_preds)"
      ],
      "metadata": {
        "colab": {
          "base_uri": "https://localhost:8080/",
          "height": 445
        },
        "id": "da2SIEdCvBDT",
        "outputId": "6623c122-07e6-4036-9603-38a5e1ea5737"
      },
      "execution_count": null,
      "outputs": [
        {
          "output_type": "display_data",
          "data": {
            "text/plain": [
              "<Figure size 800x500 with 1 Axes>"
            ],
            "image/png": "[encoded data removed]"
          },
          "metadata": {}
        }
      ]
    },
    {
      "cell_type": "markdown",
      "source": [
        "## Saving and Loading Model"
      ],
      "metadata": {
        "id": "qjSx6s8fvNLl"
      }
    },
    {
      "cell_type": "markdown",
      "source": [
        "### Saving"
      ],
      "metadata": {
        "id": "UUnghPmevYuJ"
      }
    },
    {
      "cell_type": "code",
      "source": [
        "from pathlib import Path\n",
        "\n",
        "# 1. Create models directory\n",
        "MODEL_PATH = Path(\"models\")\n",
        "MODEL_PATH.mkdir(parents=True, exist_ok=True)\n",
        "\n",
        "# 2. Create model save path\n",
        "MODEL_NAME = \"01_pytorch_workflow_model_0.pth\"\n",
        "MODEL_SAVE_PATH = MODEL_PATH / MODEL_NAME\n",
        "\n",
        "# 3. Save the model state dict\n",
        "print(f\"Saving model to: {MODEL_SAVE_PATH}\")\n",
        "torch.save(obj=model.state_dict(), # only saving the state_dict() only saves the models learned parameters\n",
        "           f=MODEL_SAVE_PATH)"
      ],
      "metadata": {
        "colab": {
          "base_uri": "https://localhost:8080/"
        },
        "id": "OwBXHWtHvPxv",
        "outputId": "ff2328dc-733f-43ff-ce1a-368f69e64cbe"
      },
      "execution_count": null,
      "outputs": [
        {
          "output_type": "stream",
          "name": "stdout",
          "text": [
            "Saving model to: models/01_pytorch_workflow_model_0.pth\n"
          ]
        }
      ]
    },
    {
      "cell_type": "markdown",
      "source": [
        "### Loading"
      ],
      "metadata": {
        "id": "Ga3pF0rOvaxp"
      }
    },
    {
      "cell_type": "code",
      "source": [
        "# Instantiate a new instance of our model (this will be instantiated with random weights)\n",
        "loaded_model = LinearRegression()\n",
        "\n",
        "# Load the state_dict of our saved model (this will update the new instance of our model with trained weights)\n",
        "loaded_model.load_state_dict(torch.load(f=MODEL_SAVE_PATH))"
      ],
      "metadata": {
        "colab": {
          "base_uri": "https://localhost:8080/"
        },
        "id": "DYARrU_MvcbK",
        "outputId": "892b29fa-9395-44cc-8fe3-c8dbd93d36e0"
      },
      "execution_count": null,
      "outputs": [
        {
          "output_type": "execute_result",
          "data": {
            "text/plain": [
              "<All keys matched successfully>"
            ]
          },
          "metadata": {},
          "execution_count": 48
        }
      ]
    }
  ]
}